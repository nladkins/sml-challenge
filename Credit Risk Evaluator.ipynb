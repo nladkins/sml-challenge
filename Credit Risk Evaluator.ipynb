{
 "cells": [
  {
   "cell_type": "code",
   "execution_count": 1,
   "metadata": {},
   "outputs": [],
   "source": [
    "#Dependencies\n",
    "%matplotlib inline\n",
    "from matplotlib import pyplot as plt\n",
    "import numpy as np\n",
    "import pandas as pd\n",
    "from pathlib import Path\n",
    "from sklearn.preprocessing import StandardScaler\n",
    "from sklearn.linear_model import LinearRegression\n",
    "from sklearn.ensemble import RandomForestClassifier\n",
    "from sklearn.feature_selection import SelectFromModel\n",
    "from sklearn.linear_model import LogisticRegression\n",
    "from sklearn.tree import DecisionTreeClassifier\n",
    "from sklearn.metrics import confusion_matrix, classification_report"
   ]
  },
  {
   "cell_type": "code",
   "execution_count": 2,
   "metadata": {},
   "outputs": [],
   "source": [
    "# Import training and testing data separately\n",
    "train_df = pd.read_csv(Path('Resources/2019loans.csv'))\n",
    "test_df = pd.read_csv(Path('Resources/2020Q1loans.csv'))"
   ]
  },
  {
   "cell_type": "code",
   "execution_count": 3,
   "metadata": {},
   "outputs": [
    {
     "data": {
      "text/html": [
       "<div>\n",
       "<style scoped>\n",
       "    .dataframe tbody tr th:only-of-type {\n",
       "        vertical-align: middle;\n",
       "    }\n",
       "\n",
       "    .dataframe tbody tr th {\n",
       "        vertical-align: top;\n",
       "    }\n",
       "\n",
       "    .dataframe thead th {\n",
       "        text-align: right;\n",
       "    }\n",
       "</style>\n",
       "<table border=\"1\" class=\"dataframe\">\n",
       "  <thead>\n",
       "    <tr style=\"text-align: right;\">\n",
       "      <th></th>\n",
       "      <th>Unnamed: 0</th>\n",
       "      <th>index</th>\n",
       "      <th>loan_amnt</th>\n",
       "      <th>int_rate</th>\n",
       "      <th>installment</th>\n",
       "      <th>home_ownership</th>\n",
       "      <th>annual_inc</th>\n",
       "      <th>verification_status</th>\n",
       "      <th>loan_status</th>\n",
       "      <th>pymnt_plan</th>\n",
       "      <th>...</th>\n",
       "      <th>pct_tl_nvr_dlq</th>\n",
       "      <th>percent_bc_gt_75</th>\n",
       "      <th>pub_rec_bankruptcies</th>\n",
       "      <th>tax_liens</th>\n",
       "      <th>tot_hi_cred_lim</th>\n",
       "      <th>total_bal_ex_mort</th>\n",
       "      <th>total_bc_limit</th>\n",
       "      <th>total_il_high_credit_limit</th>\n",
       "      <th>hardship_flag</th>\n",
       "      <th>debt_settlement_flag</th>\n",
       "    </tr>\n",
       "  </thead>\n",
       "  <tbody>\n",
       "    <tr>\n",
       "      <th>0</th>\n",
       "      <td>57107</td>\n",
       "      <td>57107</td>\n",
       "      <td>13375.0</td>\n",
       "      <td>0.1797</td>\n",
       "      <td>483.34</td>\n",
       "      <td>MORTGAGE</td>\n",
       "      <td>223000.0</td>\n",
       "      <td>Not Verified</td>\n",
       "      <td>low_risk</td>\n",
       "      <td>n</td>\n",
       "      <td>...</td>\n",
       "      <td>100.0</td>\n",
       "      <td>50.0</td>\n",
       "      <td>0.0</td>\n",
       "      <td>0.0</td>\n",
       "      <td>577150.0</td>\n",
       "      <td>122018.0</td>\n",
       "      <td>32000.0</td>\n",
       "      <td>170200.0</td>\n",
       "      <td>N</td>\n",
       "      <td>N</td>\n",
       "    </tr>\n",
       "    <tr>\n",
       "      <th>1</th>\n",
       "      <td>141451</td>\n",
       "      <td>141451</td>\n",
       "      <td>21000.0</td>\n",
       "      <td>0.1308</td>\n",
       "      <td>478.68</td>\n",
       "      <td>MORTGAGE</td>\n",
       "      <td>123000.0</td>\n",
       "      <td>Source Verified</td>\n",
       "      <td>low_risk</td>\n",
       "      <td>n</td>\n",
       "      <td>...</td>\n",
       "      <td>85.0</td>\n",
       "      <td>33.3</td>\n",
       "      <td>0.0</td>\n",
       "      <td>0.0</td>\n",
       "      <td>132750.0</td>\n",
       "      <td>27896.0</td>\n",
       "      <td>15900.0</td>\n",
       "      <td>35398.0</td>\n",
       "      <td>N</td>\n",
       "      <td>N</td>\n",
       "    </tr>\n",
       "    <tr>\n",
       "      <th>2</th>\n",
       "      <td>321143</td>\n",
       "      <td>321143</td>\n",
       "      <td>20000.0</td>\n",
       "      <td>0.1240</td>\n",
       "      <td>448.95</td>\n",
       "      <td>MORTGAGE</td>\n",
       "      <td>197000.0</td>\n",
       "      <td>Source Verified</td>\n",
       "      <td>low_risk</td>\n",
       "      <td>n</td>\n",
       "      <td>...</td>\n",
       "      <td>85.7</td>\n",
       "      <td>33.3</td>\n",
       "      <td>0.0</td>\n",
       "      <td>0.0</td>\n",
       "      <td>628160.0</td>\n",
       "      <td>114043.0</td>\n",
       "      <td>22600.0</td>\n",
       "      <td>90340.0</td>\n",
       "      <td>N</td>\n",
       "      <td>N</td>\n",
       "    </tr>\n",
       "    <tr>\n",
       "      <th>3</th>\n",
       "      <td>11778</td>\n",
       "      <td>11778</td>\n",
       "      <td>3000.0</td>\n",
       "      <td>0.1240</td>\n",
       "      <td>100.22</td>\n",
       "      <td>RENT</td>\n",
       "      <td>45000.0</td>\n",
       "      <td>Not Verified</td>\n",
       "      <td>low_risk</td>\n",
       "      <td>n</td>\n",
       "      <td>...</td>\n",
       "      <td>100.0</td>\n",
       "      <td>16.7</td>\n",
       "      <td>1.0</td>\n",
       "      <td>0.0</td>\n",
       "      <td>42006.0</td>\n",
       "      <td>20761.0</td>\n",
       "      <td>19900.0</td>\n",
       "      <td>15406.0</td>\n",
       "      <td>N</td>\n",
       "      <td>N</td>\n",
       "    </tr>\n",
       "    <tr>\n",
       "      <th>4</th>\n",
       "      <td>169382</td>\n",
       "      <td>169382</td>\n",
       "      <td>30000.0</td>\n",
       "      <td>0.1612</td>\n",
       "      <td>1056.49</td>\n",
       "      <td>MORTGAGE</td>\n",
       "      <td>133000.0</td>\n",
       "      <td>Source Verified</td>\n",
       "      <td>low_risk</td>\n",
       "      <td>n</td>\n",
       "      <td>...</td>\n",
       "      <td>100.0</td>\n",
       "      <td>66.7</td>\n",
       "      <td>0.0</td>\n",
       "      <td>0.0</td>\n",
       "      <td>283248.0</td>\n",
       "      <td>109056.0</td>\n",
       "      <td>79500.0</td>\n",
       "      <td>58778.0</td>\n",
       "      <td>N</td>\n",
       "      <td>N</td>\n",
       "    </tr>\n",
       "  </tbody>\n",
       "</table>\n",
       "<p>5 rows × 86 columns</p>\n",
       "</div>"
      ],
      "text/plain": [
       "   Unnamed: 0   index  loan_amnt  int_rate  installment home_ownership  \\\n",
       "0       57107   57107    13375.0    0.1797       483.34       MORTGAGE   \n",
       "1      141451  141451    21000.0    0.1308       478.68       MORTGAGE   \n",
       "2      321143  321143    20000.0    0.1240       448.95       MORTGAGE   \n",
       "3       11778   11778     3000.0    0.1240       100.22           RENT   \n",
       "4      169382  169382    30000.0    0.1612      1056.49       MORTGAGE   \n",
       "\n",
       "   annual_inc verification_status loan_status pymnt_plan  ...  pct_tl_nvr_dlq  \\\n",
       "0    223000.0        Not Verified    low_risk          n  ...           100.0   \n",
       "1    123000.0     Source Verified    low_risk          n  ...            85.0   \n",
       "2    197000.0     Source Verified    low_risk          n  ...            85.7   \n",
       "3     45000.0        Not Verified    low_risk          n  ...           100.0   \n",
       "4    133000.0     Source Verified    low_risk          n  ...           100.0   \n",
       "\n",
       "   percent_bc_gt_75  pub_rec_bankruptcies  tax_liens  tot_hi_cred_lim  \\\n",
       "0              50.0                   0.0        0.0         577150.0   \n",
       "1              33.3                   0.0        0.0         132750.0   \n",
       "2              33.3                   0.0        0.0         628160.0   \n",
       "3              16.7                   1.0        0.0          42006.0   \n",
       "4              66.7                   0.0        0.0         283248.0   \n",
       "\n",
       "   total_bal_ex_mort  total_bc_limit total_il_high_credit_limit  \\\n",
       "0           122018.0         32000.0                   170200.0   \n",
       "1            27896.0         15900.0                    35398.0   \n",
       "2           114043.0         22600.0                    90340.0   \n",
       "3            20761.0         19900.0                    15406.0   \n",
       "4           109056.0         79500.0                    58778.0   \n",
       "\n",
       "   hardship_flag  debt_settlement_flag  \n",
       "0              N                     N  \n",
       "1              N                     N  \n",
       "2              N                     N  \n",
       "3              N                     N  \n",
       "4              N                     N  \n",
       "\n",
       "[5 rows x 86 columns]"
      ]
     },
     "execution_count": 3,
     "metadata": {},
     "output_type": "execute_result"
    }
   ],
   "source": [
    "# Preview training data\n",
    "train_df.head()"
   ]
  },
  {
   "cell_type": "code",
   "execution_count": 4,
   "metadata": {},
   "outputs": [
    {
     "data": {
      "text/html": [
       "<div>\n",
       "<style scoped>\n",
       "    .dataframe tbody tr th:only-of-type {\n",
       "        vertical-align: middle;\n",
       "    }\n",
       "\n",
       "    .dataframe tbody tr th {\n",
       "        vertical-align: top;\n",
       "    }\n",
       "\n",
       "    .dataframe thead th {\n",
       "        text-align: right;\n",
       "    }\n",
       "</style>\n",
       "<table border=\"1\" class=\"dataframe\">\n",
       "  <thead>\n",
       "    <tr style=\"text-align: right;\">\n",
       "      <th></th>\n",
       "      <th>Unnamed: 0</th>\n",
       "      <th>index</th>\n",
       "      <th>loan_amnt</th>\n",
       "      <th>int_rate</th>\n",
       "      <th>installment</th>\n",
       "      <th>home_ownership</th>\n",
       "      <th>annual_inc</th>\n",
       "      <th>verification_status</th>\n",
       "      <th>loan_status</th>\n",
       "      <th>pymnt_plan</th>\n",
       "      <th>...</th>\n",
       "      <th>pct_tl_nvr_dlq</th>\n",
       "      <th>percent_bc_gt_75</th>\n",
       "      <th>pub_rec_bankruptcies</th>\n",
       "      <th>tax_liens</th>\n",
       "      <th>tot_hi_cred_lim</th>\n",
       "      <th>total_bal_ex_mort</th>\n",
       "      <th>total_bc_limit</th>\n",
       "      <th>total_il_high_credit_limit</th>\n",
       "      <th>hardship_flag</th>\n",
       "      <th>debt_settlement_flag</th>\n",
       "    </tr>\n",
       "  </thead>\n",
       "  <tbody>\n",
       "    <tr>\n",
       "      <th>0</th>\n",
       "      <td>67991</td>\n",
       "      <td>67991</td>\n",
       "      <td>40000.0</td>\n",
       "      <td>0.0819</td>\n",
       "      <td>814.70</td>\n",
       "      <td>MORTGAGE</td>\n",
       "      <td>140000.0</td>\n",
       "      <td>Not Verified</td>\n",
       "      <td>low_risk</td>\n",
       "      <td>n</td>\n",
       "      <td>...</td>\n",
       "      <td>97.7</td>\n",
       "      <td>0.0</td>\n",
       "      <td>0.0</td>\n",
       "      <td>0.0</td>\n",
       "      <td>527975.0</td>\n",
       "      <td>70914.0</td>\n",
       "      <td>74600.0</td>\n",
       "      <td>99475.0</td>\n",
       "      <td>N</td>\n",
       "      <td>N</td>\n",
       "    </tr>\n",
       "    <tr>\n",
       "      <th>1</th>\n",
       "      <td>25429</td>\n",
       "      <td>25429</td>\n",
       "      <td>6000.0</td>\n",
       "      <td>0.1524</td>\n",
       "      <td>208.70</td>\n",
       "      <td>RENT</td>\n",
       "      <td>55000.0</td>\n",
       "      <td>Not Verified</td>\n",
       "      <td>low_risk</td>\n",
       "      <td>n</td>\n",
       "      <td>...</td>\n",
       "      <td>66.7</td>\n",
       "      <td>0.0</td>\n",
       "      <td>0.0</td>\n",
       "      <td>0.0</td>\n",
       "      <td>34628.0</td>\n",
       "      <td>23460.0</td>\n",
       "      <td>5900.0</td>\n",
       "      <td>23628.0</td>\n",
       "      <td>N</td>\n",
       "      <td>N</td>\n",
       "    </tr>\n",
       "    <tr>\n",
       "      <th>2</th>\n",
       "      <td>38496</td>\n",
       "      <td>38496</td>\n",
       "      <td>3600.0</td>\n",
       "      <td>0.1695</td>\n",
       "      <td>128.27</td>\n",
       "      <td>RENT</td>\n",
       "      <td>42000.0</td>\n",
       "      <td>Not Verified</td>\n",
       "      <td>low_risk</td>\n",
       "      <td>n</td>\n",
       "      <td>...</td>\n",
       "      <td>100.0</td>\n",
       "      <td>0.0</td>\n",
       "      <td>0.0</td>\n",
       "      <td>0.0</td>\n",
       "      <td>23100.0</td>\n",
       "      <td>19183.0</td>\n",
       "      <td>7300.0</td>\n",
       "      <td>15000.0</td>\n",
       "      <td>N</td>\n",
       "      <td>N</td>\n",
       "    </tr>\n",
       "    <tr>\n",
       "      <th>3</th>\n",
       "      <td>19667</td>\n",
       "      <td>19667</td>\n",
       "      <td>20000.0</td>\n",
       "      <td>0.1524</td>\n",
       "      <td>478.33</td>\n",
       "      <td>RENT</td>\n",
       "      <td>100000.0</td>\n",
       "      <td>Not Verified</td>\n",
       "      <td>low_risk</td>\n",
       "      <td>n</td>\n",
       "      <td>...</td>\n",
       "      <td>100.0</td>\n",
       "      <td>50.0</td>\n",
       "      <td>0.0</td>\n",
       "      <td>0.0</td>\n",
       "      <td>56481.0</td>\n",
       "      <td>43817.0</td>\n",
       "      <td>13800.0</td>\n",
       "      <td>35981.0</td>\n",
       "      <td>N</td>\n",
       "      <td>N</td>\n",
       "    </tr>\n",
       "    <tr>\n",
       "      <th>4</th>\n",
       "      <td>37505</td>\n",
       "      <td>37505</td>\n",
       "      <td>3600.0</td>\n",
       "      <td>0.1240</td>\n",
       "      <td>120.27</td>\n",
       "      <td>RENT</td>\n",
       "      <td>50000.0</td>\n",
       "      <td>Not Verified</td>\n",
       "      <td>low_risk</td>\n",
       "      <td>n</td>\n",
       "      <td>...</td>\n",
       "      <td>100.0</td>\n",
       "      <td>25.0</td>\n",
       "      <td>0.0</td>\n",
       "      <td>0.0</td>\n",
       "      <td>45977.0</td>\n",
       "      <td>32448.0</td>\n",
       "      <td>21000.0</td>\n",
       "      <td>24977.0</td>\n",
       "      <td>N</td>\n",
       "      <td>N</td>\n",
       "    </tr>\n",
       "  </tbody>\n",
       "</table>\n",
       "<p>5 rows × 86 columns</p>\n",
       "</div>"
      ],
      "text/plain": [
       "   Unnamed: 0  index  loan_amnt  int_rate  installment home_ownership  \\\n",
       "0       67991  67991    40000.0    0.0819       814.70       MORTGAGE   \n",
       "1       25429  25429     6000.0    0.1524       208.70           RENT   \n",
       "2       38496  38496     3600.0    0.1695       128.27           RENT   \n",
       "3       19667  19667    20000.0    0.1524       478.33           RENT   \n",
       "4       37505  37505     3600.0    0.1240       120.27           RENT   \n",
       "\n",
       "   annual_inc verification_status loan_status pymnt_plan  ...  pct_tl_nvr_dlq  \\\n",
       "0    140000.0        Not Verified    low_risk          n  ...            97.7   \n",
       "1     55000.0        Not Verified    low_risk          n  ...            66.7   \n",
       "2     42000.0        Not Verified    low_risk          n  ...           100.0   \n",
       "3    100000.0        Not Verified    low_risk          n  ...           100.0   \n",
       "4     50000.0        Not Verified    low_risk          n  ...           100.0   \n",
       "\n",
       "   percent_bc_gt_75  pub_rec_bankruptcies  tax_liens  tot_hi_cred_lim  \\\n",
       "0               0.0                   0.0        0.0         527975.0   \n",
       "1               0.0                   0.0        0.0          34628.0   \n",
       "2               0.0                   0.0        0.0          23100.0   \n",
       "3              50.0                   0.0        0.0          56481.0   \n",
       "4              25.0                   0.0        0.0          45977.0   \n",
       "\n",
       "   total_bal_ex_mort  total_bc_limit total_il_high_credit_limit  \\\n",
       "0            70914.0         74600.0                    99475.0   \n",
       "1            23460.0          5900.0                    23628.0   \n",
       "2            19183.0          7300.0                    15000.0   \n",
       "3            43817.0         13800.0                    35981.0   \n",
       "4            32448.0         21000.0                    24977.0   \n",
       "\n",
       "   hardship_flag  debt_settlement_flag  \n",
       "0              N                     N  \n",
       "1              N                     N  \n",
       "2              N                     N  \n",
       "3              N                     N  \n",
       "4              N                     N  \n",
       "\n",
       "[5 rows x 86 columns]"
      ]
     },
     "execution_count": 4,
     "metadata": {},
     "output_type": "execute_result"
    }
   ],
   "source": [
    "# Preview Testing data\n",
    "test_df.head()"
   ]
  },
  {
   "cell_type": "code",
   "execution_count": 5,
   "metadata": {},
   "outputs": [
    {
     "name": "stdout",
     "output_type": "stream",
     "text": [
      "   Unnamed: 0   index  loan_amnt  int_rate  installment  annual_inc    dti  \\\n",
      "0       57107   57107    13375.0    0.1797       483.34    223000.0  29.99   \n",
      "1      141451  141451    21000.0    0.1308       478.68    123000.0  11.26   \n",
      "2      321143  321143    20000.0    0.1240       448.95    197000.0  11.28   \n",
      "3       11778   11778     3000.0    0.1240       100.22     45000.0  18.08   \n",
      "4      169382  169382    30000.0    0.1612      1056.49    133000.0  27.77   \n",
      "\n",
      "   delinq_2yrs  inq_last_6mths  open_acc  ...  verification_status_Verified  \\\n",
      "0          0.0             0.0      15.0  ...                             0   \n",
      "1          2.0             0.0      16.0  ...                             0   \n",
      "2          0.0             0.0      12.0  ...                             0   \n",
      "3          0.0             0.0      12.0  ...                             0   \n",
      "4          0.0             2.0      13.0  ...                             0   \n",
      "\n",
      "   pymnt_plan_n  initial_list_status_f  initial_list_status_w  \\\n",
      "0             1                      0                      1   \n",
      "1             1                      0                      1   \n",
      "2             1                      0                      1   \n",
      "3             1                      0                      1   \n",
      "4             1                      0                      1   \n",
      "\n",
      "   application_type_Individual  application_type_Joint App  hardship_flag_N  \\\n",
      "0                            1                           0                1   \n",
      "1                            1                           0                1   \n",
      "2                            1                           0                1   \n",
      "3                            1                           0                1   \n",
      "4                            1                           0                1   \n",
      "\n",
      "   hardship_flag_Y  debt_settlement_flag_N  debt_settlement_flag_Y  \n",
      "0                0                       1                       0  \n",
      "1                0                       1                       0  \n",
      "2                0                       1                       0  \n",
      "3                0                       1                       0  \n",
      "4                0                       1                       0  \n",
      "\n",
      "[5 rows x 94 columns]\n",
      "train_df_y array is        Unnamed: 0   index  loan_amnt  int_rate  installment  annual_inc  \\\n",
      "0           57107   57107    13375.0    0.1797       483.34    223000.0   \n",
      "1          141451  141451    21000.0    0.1308       478.68    123000.0   \n",
      "2          321143  321143    20000.0    0.1240       448.95    197000.0   \n",
      "3           11778   11778     3000.0    0.1240       100.22     45000.0   \n",
      "4          169382  169382    30000.0    0.1612      1056.49    133000.0   \n",
      "...           ...     ...        ...       ...          ...         ...   \n",
      "12175      354912  354912    19975.0    0.2565       801.09     28000.0   \n",
      "12176      354944  354944    15000.0    0.1774       540.34     50000.0   \n",
      "12177      354973  354973     3600.0    0.1862       131.28     60000.0   \n",
      "12178      355002  355002    15000.0    0.0881       475.68     62000.0   \n",
      "12179      355307  355307    15000.0    0.1774       540.34     54080.0   \n",
      "\n",
      "         dti  delinq_2yrs  inq_last_6mths  open_acc  ...  \\\n",
      "0      29.99          0.0             0.0      15.0  ...   \n",
      "1      11.26          2.0             0.0      16.0  ...   \n",
      "2      11.28          0.0             0.0      12.0  ...   \n",
      "3      18.08          0.0             0.0      12.0  ...   \n",
      "4      27.77          0.0             2.0      13.0  ...   \n",
      "...      ...          ...             ...       ...  ...   \n",
      "12175  28.42          0.0             0.0      15.0  ...   \n",
      "12176  23.43          4.0             0.0      16.0  ...   \n",
      "12177  28.80          0.0             1.0      14.0  ...   \n",
      "12178  11.44          0.0             0.0       5.0  ...   \n",
      "12179  21.66          1.0             1.0       5.0  ...   \n",
      "\n",
      "       verification_status_Verified  pymnt_plan_n  initial_list_status_f  \\\n",
      "0                                 0             1                      0   \n",
      "1                                 0             1                      0   \n",
      "2                                 0             1                      0   \n",
      "3                                 0             1                      0   \n",
      "4                                 0             1                      0   \n",
      "...                             ...           ...                    ...   \n",
      "12175                             0             1                      0   \n",
      "12176                             1             1                      0   \n",
      "12177                             0             1                      0   \n",
      "12178                             0             1                      0   \n",
      "12179                             0             1                      1   \n",
      "\n",
      "       initial_list_status_w  application_type_Individual  \\\n",
      "0                          1                            1   \n",
      "1                          1                            1   \n",
      "2                          1                            1   \n",
      "3                          1                            1   \n",
      "4                          1                            1   \n",
      "...                      ...                          ...   \n",
      "12175                      1                            1   \n",
      "12176                      1                            1   \n",
      "12177                      1                            1   \n",
      "12178                      1                            0   \n",
      "12179                      0                            1   \n",
      "\n",
      "       application_type_Joint App  hardship_flag_N  hardship_flag_Y  \\\n",
      "0                               0                1                0   \n",
      "1                               0                1                0   \n",
      "2                               0                1                0   \n",
      "3                               0                1                0   \n",
      "4                               0                1                0   \n",
      "...                           ...              ...              ...   \n",
      "12175                           0                1                0   \n",
      "12176                           0                1                0   \n",
      "12177                           0                1                0   \n",
      "12178                           1                1                0   \n",
      "12179                           0                1                0   \n",
      "\n",
      "       debt_settlement_flag_N  debt_settlement_flag_Y  \n",
      "0                           1                       0  \n",
      "1                           1                       0  \n",
      "2                           1                       0  \n",
      "3                           1                       0  \n",
      "4                           1                       0  \n",
      "...                       ...                     ...  \n",
      "12175                       1                       0  \n",
      "12176                       1                       0  \n",
      "12177                       1                       0  \n",
      "12178                       1                       0  \n",
      "12179                       1                       0  \n",
      "\n",
      "[12180 rows x 94 columns].\n"
     ]
    }
   ],
   "source": [
    "# Convert categorical data to numeric and separate target feature for training data\n",
    "train_df_sample = pd.get_dummies(train_df)\n",
    "train_df_x = train_df_sample.drop(['loan_status_low_risk', 'loan_status_high_risk'], axis=1)\n",
    "train_df_y = train_df_sample['loan_status_low_risk'].values\n",
    "print(train_df_x.head())\n",
    "print(f\"train_df_y array is {train_df_x}.\")"
   ]
  },
  {
   "cell_type": "code",
   "execution_count": 6,
   "metadata": {},
   "outputs": [
    {
     "data": {
      "text/plain": [
       "Unnamed: 0                    0\n",
       "index                         0\n",
       "loan_amnt                     0\n",
       "int_rate                      0\n",
       "installment                   0\n",
       "                             ..\n",
       "application_type_Joint App    0\n",
       "hardship_flag_N               0\n",
       "hardship_flag_Y               0\n",
       "debt_settlement_flag_N        0\n",
       "debt_settlement_flag_Y        0\n",
       "Length: 94, dtype: int64"
      ]
     },
     "execution_count": 6,
     "metadata": {},
     "output_type": "execute_result"
    }
   ],
   "source": [
    "# Check if there are any missing variables in the training data set\n",
    "train_df_x.isnull().sum(axis=0)"
   ]
  },
  {
   "cell_type": "code",
   "execution_count": 7,
   "metadata": {},
   "outputs": [
    {
     "name": "stdout",
     "output_type": "stream",
     "text": [
      "   Unnamed: 0  index  loan_amnt  int_rate  installment  annual_inc    dti  \\\n",
      "0       67991  67991    40000.0    0.0819       814.70    140000.0  19.75   \n",
      "1       25429  25429     6000.0    0.1524       208.70     55000.0  11.52   \n",
      "2       38496  38496     3600.0    0.1695       128.27     42000.0   6.74   \n",
      "3       19667  19667    20000.0    0.1524       478.33    100000.0  12.13   \n",
      "4       37505  37505     3600.0    0.1240       120.27     50000.0  16.08   \n",
      "\n",
      "   delinq_2yrs  inq_last_6mths  open_acc  ...  \\\n",
      "0          0.0             1.0      18.0  ...   \n",
      "1          2.0             0.0       8.0  ...   \n",
      "2          0.0             0.0       6.0  ...   \n",
      "3          0.0             2.0       7.0  ...   \n",
      "4          0.0             3.0       6.0  ...   \n",
      "\n",
      "   verification_status_Source Verified  verification_status_Verified  \\\n",
      "0                                    0                             0   \n",
      "1                                    0                             0   \n",
      "2                                    0                             0   \n",
      "3                                    0                             0   \n",
      "4                                    0                             0   \n",
      "\n",
      "   pymnt_plan_n  initial_list_status_f  initial_list_status_w  \\\n",
      "0             1                      0                      1   \n",
      "1             1                      0                      1   \n",
      "2             1                      0                      1   \n",
      "3             1                      0                      1   \n",
      "4             1                      0                      1   \n",
      "\n",
      "   application_type_Individual  application_type_Joint App  hardship_flag_N  \\\n",
      "0                            1                           0                1   \n",
      "1                            1                           0                1   \n",
      "2                            1                           0                1   \n",
      "3                            1                           0                1   \n",
      "4                            1                           0                1   \n",
      "\n",
      "   hardship_flag_Y  debt_settlement_flag_N  \n",
      "0                0                       1  \n",
      "1                0                       1  \n",
      "2                0                       1  \n",
      "3                0                       1  \n",
      "4                0                       1  \n",
      "\n",
      "[5 rows x 93 columns]\n",
      "train_df_y array is [1 1 1 ... 0 0 0].\n"
     ]
    }
   ],
   "source": [
    "# Convert categorical data to numeric and separate target feature for testing data\n",
    "test_df_sample = pd.get_dummies(test_df)\n",
    "test_df_x = test_df_sample.drop(['loan_status_low_risk', 'loan_status_high_risk'], axis=1)\n",
    "test_df_y = test_df_sample['loan_status_low_risk'].values\n",
    "print(test_df_x.head())\n",
    "print(f\"train_df_y array is {train_df_y}.\")"
   ]
  },
  {
   "cell_type": "code",
   "execution_count": 8,
   "metadata": {},
   "outputs": [
    {
     "data": {
      "text/plain": [
       "Unnamed: 0                     0\n",
       "index                          0\n",
       "loan_amnt                      0\n",
       "int_rate                       0\n",
       "installment                    0\n",
       "                              ..\n",
       "application_type_Individual    0\n",
       "application_type_Joint App     0\n",
       "hardship_flag_N                0\n",
       "hardship_flag_Y                0\n",
       "debt_settlement_flag_N         0\n",
       "Length: 93, dtype: int64"
      ]
     },
     "execution_count": 8,
     "metadata": {},
     "output_type": "execute_result"
    }
   ],
   "source": [
    "# Check if there are any missing variables in the testing data set\n",
    "test_df_x.isnull().sum(axis=0)"
   ]
  },
  {
   "cell_type": "code",
   "execution_count": 9,
   "metadata": {},
   "outputs": [],
   "source": [
    "# add missing dummy variables to testing set just in case\n",
    "test_df_x['debt_settlement_flag_Y'] = 0"
   ]
  },
  {
   "cell_type": "markdown",
   "metadata": {},
   "source": [
    "#### Because of the sample being low, I suspect that a Logistic regression might perform better because the noise variables will be less than the total variables that can be explained. "
   ]
  },
  {
   "cell_type": "code",
   "execution_count": 10,
   "metadata": {
    "scrolled": true
   },
   "outputs": [
    {
     "name": "stdout",
     "output_type": "stream",
     "text": [
      "The Logistic Regression model Score for the unscaled training data is  0.648440065681445\n",
      "The Logistic Regression model Score for the unscaled testing data is  0.5253083794130158\n"
     ]
    },
    {
     "name": "stderr",
     "output_type": "stream",
     "text": [
      "/Users/normanadkins/opt/anaconda3/envs/PythonData/lib/python3.6/site-packages/sklearn/linear_model/_logistic.py:764: ConvergenceWarning: lbfgs failed to converge (status=1):\n",
      "STOP: TOTAL NO. of ITERATIONS REACHED LIMIT.\n",
      "\n",
      "Increase the number of iterations (max_iter) or scale the data as shown in:\n",
      "    https://scikit-learn.org/stable/modules/preprocessing.html\n",
      "Please also refer to the documentation for alternative solver options:\n",
      "    https://scikit-learn.org/stable/modules/linear_model.html#logistic-regression\n",
      "  extra_warning_msg=_LOGISTIC_SOLVER_CONVERGENCE_MSG)\n"
     ]
    }
   ],
   "source": [
    "# Train the Logistic Regression model on the unscaled data and print the model score\n",
    "classifier = LogisticRegression()\n",
    "classifier\n",
    "classifier.fit(train_df_x, train_df_y)\n",
    "\n",
    "print(f\"The Logistic Regression model Score for the unscaled training data is  {classifier.score(train_df_x, train_df_y)}\")\n",
    "print(f\"The Logistic Regression model Score for the unscaled testing data is  {classifier.score(test_df_x, test_df_y)}\")"
   ]
  },
  {
   "cell_type": "code",
   "execution_count": 11,
   "metadata": {},
   "outputs": [
    {
     "name": "stdout",
     "output_type": "stream",
     "text": [
      "The Random Forest Classifier model Score for the unscaled training data is 1.0.\n",
      "The Random Forest Classifier model Score for the unscaled testing data is 0.6180348787749894.\n"
     ]
    }
   ],
   "source": [
    "# Train a Random Forest Classifier model and print the model score\n",
    "rlf_train = RandomForestClassifier(random_state=1, n_estimators=500).fit(train_df_x, train_df_y)\n",
    "print(f\"The Random Forest Classifier model Score for the unscaled training data is {rlf_train.score(train_df_x, train_df_y)}.\")\n",
    "print(f\"The Random Forest Classifier model Score for the unscaled testing data is {rlf_train.score(test_df_x, test_df_y)}.\")"
   ]
  },
  {
   "cell_type": "markdown",
   "metadata": {},
   "source": [
    "#### Because the Random Forest Classifier model has a perfect score, I suspect that there is something off with the data, so I think the preprocessing has to be revisited."
   ]
  },
  {
   "cell_type": "code",
   "execution_count": 23,
   "metadata": {
    "scrolled": true
   },
   "outputs": [
    {
     "name": "stdout",
     "output_type": "stream",
     "text": [
      "Linear Regression Score for the scaled training data is 0.15694581802378016.\n",
      "Linear Regression Score for the scaled testing data is -5.139575915335923e+27.\n"
     ]
    }
   ],
   "source": [
    "# Scale the data\n",
    "scaler = StandardScaler().fit(train_df_x)\n",
    "X_train_scaled = scaler.transform(train_df_x)\n",
    "X_test_scaled = scaler.transform(test_df_x)\n",
    "reg_train = LinearRegression().fit(X_train_scaled, train_df_y)\n",
    "print(f\"Linear Regression Score for the scaled training data is {reg_train.score(X_train_scaled, train_df_y)}.\")\n",
    "print(f\"Linear Regression Score for the scaled testing data is {reg_train.score(X_test_scaled, test_df_y)}.\")"
   ]
  },
  {
   "cell_type": "markdown",
   "metadata": {},
   "source": [
    "#### This shows there isn't really a strong positive nor negative correlation, so the Logistic Regression might still be best."
   ]
  },
  {
   "cell_type": "code",
   "execution_count": 13,
   "metadata": {
    "scrolled": true
   },
   "outputs": [
    {
     "name": "stdout",
     "output_type": "stream",
     "text": [
      "The Logistic Regression Score for the scaled data is 0.713136288998358\n",
      "The Logistic Regression Score for the scaled data is 0.7205444491705657\n"
     ]
    },
    {
     "name": "stderr",
     "output_type": "stream",
     "text": [
      "/Users/normanadkins/opt/anaconda3/envs/PythonData/lib/python3.6/site-packages/sklearn/linear_model/_logistic.py:764: ConvergenceWarning: lbfgs failed to converge (status=1):\n",
      "STOP: TOTAL NO. of ITERATIONS REACHED LIMIT.\n",
      "\n",
      "Increase the number of iterations (max_iter) or scale the data as shown in:\n",
      "    https://scikit-learn.org/stable/modules/preprocessing.html\n",
      "Please also refer to the documentation for alternative solver options:\n",
      "    https://scikit-learn.org/stable/modules/linear_model.html#logistic-regression\n",
      "  extra_warning_msg=_LOGISTIC_SOLVER_CONVERGENCE_MSG)\n"
     ]
    }
   ],
   "source": [
    "# Train the Logistic Regression model on the scaled data and print the model score\n",
    "clf_train_scaled = LogisticRegression().fit(X_train_scaled, train_df_y)\n",
    "print(f'The Logistic Regression Score for the scaled data is {clf_train_scaled.score(X_train_scaled, train_df_y)}')\n",
    "print(f'The Logistic Regression Score for the scaled data is {clf_train_scaled.score(X_test_scaled, test_df_y)}')"
   ]
  },
  {
   "cell_type": "code",
   "execution_count": 14,
   "metadata": {},
   "outputs": [
    {
     "name": "stdout",
     "output_type": "stream",
     "text": [
      "Random Forest Classifier model score for the scaled training data is 1.0\n",
      "Random Forest Classifier model score for the scaled testing data is 0.6193109315185028\n"
     ]
    }
   ],
   "source": [
    "# Train a Random Forest Classifier model on the scaled data and print the model score\n",
    "rlf_train_scaled = RandomForestClassifier(random_state=1, n_estimators=500).fit(X_train_scaled, train_df_y)\n",
    "print(f'Random Forest Classifier model score for the scaled training data is {rlf_train_scaled.score(X_train_scaled, train_df_y)}')\n",
    "print(f'Random Forest Classifier model score for the scaled testing data is {rlf_train_scaled.score(X_test_scaled, test_df_y)}')"
   ]
  },
  {
   "cell_type": "code",
   "execution_count": 15,
   "metadata": {},
   "outputs": [
    {
     "name": "stdout",
     "output_type": "stream",
     "text": [
      "[3.92571891e-02 4.05950463e-02 1.62187746e-02 3.19751886e-02\n",
      " 3.12425925e-02 1.29773164e-02 1.43701772e-02 2.57441033e-03\n",
      " 3.71068565e-03 7.91707235e-03 1.32459877e-03 1.37999362e-02\n",
      " 1.06066338e-02 3.06047881e-02 3.05327603e-02 3.94705307e-02\n",
      " 3.87085821e-02 5.32164843e-02 3.96315997e-02 1.50374398e-02\n",
      " 0.00000000e+00 0.00000000e+00 8.89993459e-02 6.68114287e-04\n",
      " 0.00000000e+00 6.52591818e-06 3.89950856e-03 1.22544127e-02\n",
      " 4.10837064e-03 5.97332893e-03 3.66839119e-03 5.60343108e-03\n",
      " 1.02728205e-02 1.21250724e-02 1.23902973e-02 4.42077469e-03\n",
      " 6.94477814e-03 1.50444019e-02 1.18267888e-02 1.39724917e-02\n",
      " 5.77759247e-03 5.95332766e-03 7.21763497e-03 8.60171965e-03\n",
      " 1.26806650e-02 1.42047636e-02 1.32595803e-02 2.51554681e-04\n",
      " 9.88363846e-07 1.44466785e-02 1.53925880e-02 1.09614304e-02\n",
      " 8.93857638e-03 5.07188154e-03 1.24231892e-02 1.08838195e-02\n",
      " 3.16178593e-03 6.41452692e-03 7.10990458e-03 6.55688797e-03\n",
      " 8.06223610e-03 9.81666606e-03 7.79462104e-03 9.28383062e-03\n",
      " 7.10750015e-03 7.99042454e-03 0.00000000e+00 2.93618626e-06\n",
      " 8.64045549e-04 6.27960768e-03 7.98584461e-03 7.20194520e-03\n",
      " 1.24238532e-03 0.00000000e+00 1.26928962e-02 1.21043713e-02\n",
      " 1.39622499e-02 1.21469352e-02 2.14006824e-04 1.78577883e-03\n",
      " 1.48972892e-03 1.48473876e-03 1.70177579e-03 1.78194680e-03\n",
      " 1.41842890e-03 0.00000000e+00 1.10875247e-03 1.12125284e-03\n",
      " 1.34915849e-03 1.38611094e-03 2.66432215e-03 2.61252460e-03\n",
      " 3.91497134e-05 4.40712421e-05]\n"
     ]
    },
    {
     "data": {
      "image/png": "[encoded data removed]",
      "text/plain": [
       "<Figure size 432x288 with 1 Axes>"
      ]
     },
     "metadata": {
      "needs_background": "light"
     },
     "output_type": "display_data"
    }
   ],
   "source": [
    "# Feature_importances Data\n",
    "features = rlf_train_scaled.feature_importances_\n",
    "\n",
    "print(features)\n",
    "plt.bar(x = range(len(features)), height=features)\n",
    "plt.show()"
   ]
  },
  {
   "cell_type": "markdown",
   "metadata": {},
   "source": [
    "#### The Random Forest Model still returns a perfect score which suggests that perhaps there is a lot of noise still in this data and perhaps it is an insufficient sample.  Let's look at a confusion matrix."
   ]
  },
  {
   "cell_type": "code",
   "execution_count": 16,
   "metadata": {},
   "outputs": [
    {
     "data": {
      "text/plain": [
       "array([[ 575, 1776],\n",
       "       [ 542, 1809]])"
      ]
     },
     "execution_count": 16,
     "metadata": {},
     "output_type": "execute_result"
    }
   ],
   "source": [
    "# Create a decision tree model\n",
    "y_true = test_df_y\n",
    "y_pred = classifier.predict(X_test_scaled)\n",
    "cm = confusion_matrix(y_true, y_pred)\n",
    "cm"
   ]
  },
  {
   "cell_type": "markdown",
   "metadata": {},
   "source": [
    "#### The decision tree shows that there is a low degree of true positives which would perhaps justify the need for more data needed for the sample.  Let's look at the confusion matrix."
   ]
  },
  {
   "cell_type": "code",
   "execution_count": 17,
   "metadata": {},
   "outputs": [],
   "source": [
    "# Assign values of True Negative, False Postive, False Negative, and True Positive.\n",
    "tn, fp, fn, tp = cm.ravel()"
   ]
  },
  {
   "cell_type": "code",
   "execution_count": 18,
   "metadata": {},
   "outputs": [
    {
     "data": {
      "text/plain": [
       "1809"
      ]
     },
     "execution_count": 18,
     "metadata": {},
     "output_type": "execute_result"
    }
   ],
   "source": [
    "# Confirm changes were applied.\n",
    "tp"
   ]
  },
  {
   "cell_type": "code",
   "execution_count": 19,
   "metadata": {},
   "outputs": [
    {
     "data": {
      "text/plain": [
       "0.5046025104602511"
      ]
     },
     "execution_count": 19,
     "metadata": {},
     "output_type": "execute_result"
    }
   ],
   "source": [
    "# Calculate the precision of the model based on the confusion matrix\n",
    "precision = tp / (tp + fp)\n",
    "precision"
   ]
  },
  {
   "cell_type": "code",
   "execution_count": 20,
   "metadata": {},
   "outputs": [
    {
     "data": {
      "text/plain": [
       "0.7694598043385793"
      ]
     },
     "execution_count": 20,
     "metadata": {},
     "output_type": "execute_result"
    }
   ],
   "source": [
    "# Calculate the sensitivity of the model based on the confusion matrix\n",
    "sensitivity = tp / (tp + fn)\n",
    "sensitivity"
   ]
  },
  {
   "cell_type": "code",
   "execution_count": 21,
   "metadata": {},
   "outputs": [
    {
     "data": {
      "text/plain": [
       "0.6095013477088949"
      ]
     },
     "execution_count": 21,
     "metadata": {},
     "output_type": "execute_result"
    }
   ],
   "source": [
    "f1 = 2*precision*sensitivity / (precision + sensitivity)\n",
    "f1"
   ]
  },
  {
   "cell_type": "code",
   "execution_count": 22,
   "metadata": {},
   "outputs": [
    {
     "name": "stdout",
     "output_type": "stream",
     "text": [
      "              precision    recall  f1-score   support\n",
      "\n",
      "           0       0.51      0.24      0.33      2351\n",
      "           1       0.50      0.77      0.61      2351\n",
      "\n",
      "    accuracy                           0.51      4702\n",
      "   macro avg       0.51      0.51      0.47      4702\n",
      "weighted avg       0.51      0.51      0.47      4702\n",
      "\n"
     ]
    }
   ],
   "source": [
    "print(classification_report(y_true, y_pred))"
   ]
  },
  {
   "cell_type": "markdown",
   "metadata": {},
   "source": [
    "### The model does not seem precise and is very sensitive which again leads me to think that there is insufficient data in this sample."
   ]
  }
 ],
 "metadata": {
  "kernelspec": {
   "display_name": "Python 3",
   "language": "python",
   "name": "python3"
  },
  "language_info": {
   "codemirror_mode": {
    "name": "ipython",
    "version": 3
   },
   "file_extension": ".py",
   "mimetype": "text/x-python",
   "name": "python",
   "nbconvert_exporter": "python",
   "pygments_lexer": "ipython3",
   "version": "3.6.13"
  }
 },
 "nbformat": 4,
 "nbformat_minor": 4
}
